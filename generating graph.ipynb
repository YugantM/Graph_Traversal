{
 "cells": [
  {
   "cell_type": "code",
   "execution_count": 1,
   "metadata": {},
   "outputs": [],
   "source": [
    "import os"
   ]
  },
  {
   "cell_type": "code",
   "execution_count": 13,
   "metadata": {},
   "outputs": [],
   "source": [
    "path = \"./\""
   ]
  },
  {
   "cell_type": "code",
   "execution_count": 14,
   "metadata": {},
   "outputs": [],
   "source": [
    "folder_list = [each for each in list(os.walk(path))[0][1] if \"python\" in each]"
   ]
  },
  {
   "cell_type": "code",
   "execution_count": 74,
   "metadata": {},
   "outputs": [],
   "source": [
    "variables_to_look = ['depends','makedepends']"
   ]
  },
  {
   "cell_type": "code",
   "execution_count": 72,
   "metadata": {},
   "outputs": [],
   "source": [
    "def variable_or_not(line):\n",
    "    \n",
    "    if \"=\" in line and len(line.strip().split(\"=\")[0].split(\" \"))==1:\n",
    "        return each_line.strip().split(\"=\")[0]\n",
    "    else:\n",
    "        return False\n",
    "    "
   ]
  },
  {
   "cell_type": "code",
   "execution_count": 80,
   "metadata": {},
   "outputs": [
    {
     "name": "stdout",
     "output_type": "stream",
     "text": [
      "pkgname=python-elephant\n",
      "makedepends=('python' 'python-apple')\n",
      "\n",
      "pkgname=python-apple\n",
      "makedepends=('python')\n",
      "\n",
      "pkgname=python-banana\n",
      "makedepends=('python' 'python-apple')\n",
      "\n",
      "pkgname=python-dog\n",
      "makedepends=('python' 'python-dog')\n",
      "\n",
      "pkgname=python-cactus\n",
      "makedepends=('python' 'python-banana')\n",
      "\n"
     ]
    }
   ],
   "source": [
    "for each_folder in folder_list:\n",
    "    with open(path+each_folder+\"/PKGBUILD\",'r') as file:\n",
    "        for each_line in file.readlines():\n",
    "            if variable_or_not(each_line)==\"pkgname\":\n",
    "                print(each_line.strip())\n",
    "            if variable_or_not(each_line) in variables_to_look:\n",
    "                print(each_line)\n",
    "            "
   ]
  },
  {
   "cell_type": "code",
   "execution_count": null,
   "metadata": {},
   "outputs": [],
   "source": []
  }
 ],
 "metadata": {
  "kernelspec": {
   "display_name": "Python 3",
   "language": "python",
   "name": "python3"
  },
  "language_info": {
   "codemirror_mode": {
    "name": "ipython",
    "version": 3
   },
   "file_extension": ".py",
   "mimetype": "text/x-python",
   "name": "python",
   "nbconvert_exporter": "python",
   "pygments_lexer": "ipython3",
   "version": "3.7.4"
  }
 },
 "nbformat": 4,
 "nbformat_minor": 2
}
