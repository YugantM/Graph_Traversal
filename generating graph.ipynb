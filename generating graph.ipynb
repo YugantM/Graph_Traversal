{
 "cells": [
  {
   "cell_type": "code",
   "execution_count": 28,
   "metadata": {},
   "outputs": [],
   "source": [
    "import os\n",
    "import pandas as pd\n",
    "import networkx as nx"
   ]
  },
  {
   "cell_type": "code",
   "execution_count": 29,
   "metadata": {},
   "outputs": [],
   "source": [
    "from toposort import toposort, toposort_flatten"
   ]
  },
  {
   "cell_type": "code",
   "execution_count": 30,
   "metadata": {},
   "outputs": [],
   "source": [
    "from collections import defaultdict "
   ]
  },
  {
   "cell_type": "code",
   "execution_count": 31,
   "metadata": {},
   "outputs": [],
   "source": [
    "path = \"./\""
   ]
  },
  {
   "cell_type": "code",
   "execution_count": 32,
   "metadata": {},
   "outputs": [],
   "source": [
    "# list of folders of the given path is assigned to the variable folder_list\n",
    "folder_list = [each for each in list(os.walk(path))[0][1] if \"python\" in each]"
   ]
  },
  {
   "cell_type": "code",
   "execution_count": 33,
   "metadata": {},
   "outputs": [],
   "source": [
    "# variable to be identify\n",
    "variables_to_look = ['depends','makedepends']"
   ]
  },
  {
   "cell_type": "code",
   "execution_count": 34,
   "metadata": {},
   "outputs": [],
   "source": [
    "# optional function which identifies whether the given line contains a variable or not\n",
    "def variable_or_not(line):\n",
    "    \n",
    "    if \"=\" in line and len(line.strip().split(\"=\")[0].split(\" \"))==1:\n",
    "        return each_line.strip().split(\"=\")[0]\n",
    "    else:\n",
    "        return False\n",
    "    "
   ]
  },
  {
   "cell_type": "code",
   "execution_count": 35,
   "metadata": {},
   "outputs": [],
   "source": [
    "# start reading the dependencies\n",
    "\n",
    "# flag is set to True if the desired variable is there in the line\n",
    "flag = False\n",
    "\n",
    "# this dictionary will contain keys as package names and values as dependecies\n",
    "main_depends = {}\n",
    "\n",
    "# iterates through all the items in the folder_list\n",
    "for each_folder in folder_list:\n",
    "    \n",
    "    if os.path.isfile(path+each_folder+\"/PKGBUILD\"):\n",
    "        # opens the file \n",
    "        with open(path+each_folder+\"/PKGBUILD\",'r') as file:\n",
    "\n",
    "            # this variable contains all the lines of the given file\n",
    "            temp = file.readlines()\n",
    "\n",
    "            # stack is sub-list which will contain all the dependecies of the file\n",
    "            stack = []\n",
    "\n",
    "            # iterates through each line of the given file\n",
    "            for each in temp:\n",
    "\n",
    "                # checks if the desired varable is at the given line\n",
    "                if each.split(\"=\")[0] in variables_to_look:\n",
    "                    flag = True\n",
    "\n",
    "                # if variable is found\n",
    "                if flag == True:\n",
    "\n",
    "                    # appends the line if flag is true\n",
    "                    stack.append(each.strip().replace(\"'\",\"\"))\n",
    "                    #print(each.strip().replace(\"'\",\"\"))\n",
    "\n",
    "                # if the bracket is being ended \n",
    "                if ')' in each.strip():\n",
    "                    flag = False\n",
    "\n",
    "                    # if there is dependencies availabe or not\n",
    "                    if len(stack) > 0:\n",
    "                        main_depends[each_folder] = stack\n",
    "                    else:\n",
    "                        main_depends[each_folder] = None\n",
    "\n",
    "            \n",
    "# this loop will clear the string of the main_depends       \n",
    "for each in list(main_depends.keys()):\n",
    "    \n",
    "    temp = []\n",
    "    \n",
    "    # iterates through list for given key\n",
    "    for x in main_depends[each]:\n",
    "        temp.append(x.split(\"=\")[-1])\n",
    "    \n",
    "    # clears the line and gets the names of the dependencies\n",
    "    main_depends[each] = set([each for each in \" \".join(temp).replace(\"(\",\"\").replace(\")\",\"\").split(\" \") if len(each)>0])\n"
   ]
  },
  {
   "cell_type": "code",
   "execution_count": 36,
   "metadata": {},
   "outputs": [],
   "source": [
    "# all the names of the modules which are in the folders\n",
    "main_modules = list(main_depends.keys())\n",
    "\n",
    "# all the names of the main modules and its dependecies, general list\n",
    "all_modules = list(set([j for i in list(main_depends.values()) for j in i]+main_modules))"
   ]
  },
  {
   "cell_type": "code",
   "execution_count": 37,
   "metadata": {},
   "outputs": [],
   "source": [
    "# dataframe with index and columns as list of all the modules\n",
    "main_frame = pd.DataFrame(columns=all_modules,index=all_modules).fillna(0)"
   ]
  },
  {
   "cell_type": "code",
   "execution_count": 38,
   "metadata": {},
   "outputs": [],
   "source": [
    "# iterates through each cell value of the dataframe\n",
    "for ind in list(main_frame.index):\n",
    "    for col in list(main_frame.columns):\n",
    "        \n",
    "        # checks if the given index is in the main module list and index and column names are not same\n",
    "        if ind in main_modules and col!=ind:\n",
    "            \n",
    "            # iterates through the list of dependencies for the given module\n",
    "            for each in main_depends[ind]:\n",
    "                \n",
    "                # set the cell value to 1 if there is dependencies between two modules\n",
    "                main_frame.loc[ind,each] = 1\n",
    "        "
   ]
  },
  {
   "cell_type": "code",
   "execution_count": 39,
   "metadata": {},
   "outputs": [
    {
     "data": {
      "text/plain": [
       "0"
      ]
     },
     "execution_count": 39,
     "metadata": {},
     "output_type": "execute_result"
    }
   ],
   "source": [
    "main_frame.iloc[0]['python']"
   ]
  },
  {
   "cell_type": "code",
   "execution_count": 40,
   "metadata": {},
   "outputs": [],
   "source": [
    "main_frame = main_frame"
   ]
  },
  {
   "cell_type": "code",
   "execution_count": 41,
   "metadata": {},
   "outputs": [],
   "source": [
    "def get_depends(pack):\n",
    "    return main_frame.index[main_frame[pack] == 1].tolist()"
   ]
  },
  {
   "cell_type": "code",
   "execution_count": 42,
   "metadata": {},
   "outputs": [
    {
     "data": {
      "text/plain": [
       "['python-banana',\n",
       " 'python-dog',\n",
       " 'python-cat',\n",
       " 'python-cactus',\n",
       " 'python-elephant',\n",
       " 'python-apple']"
      ]
     },
     "execution_count": 42,
     "metadata": {},
     "output_type": "execute_result"
    }
   ],
   "source": [
    "get_depends('python')"
   ]
  },
  {
   "cell_type": "code",
   "execution_count": 43,
   "metadata": {},
   "outputs": [],
   "source": [
    "def flat(lis):\n",
    "    \n",
    "    temp = []\n",
    "    \n",
    "    for each in lis:\n",
    "        \n",
    "        if type(each) == str:\n",
    "            temp.append(each)\n",
    "        else: \n",
    "            for x in each:\n",
    "                temp.append(x)\n",
    "        \n",
    "    return temp"
   ]
  },
  {
   "cell_type": "code",
   "execution_count": 44,
   "metadata": {},
   "outputs": [],
   "source": [
    "def custom_list(pack):\n",
    "    label = \"lavel-\"\n",
    "    levels = {}\n",
    "\n",
    "    current_level = 0\n",
    "    levels[label+str(current_level)] = [pack]\n",
    "    \n",
    "    bases = []\n",
    "    \n",
    "    #for each in list(main_frame.columns):\n",
    "        \n",
    "        #if len(get_depends(each)) == 0:\n",
    "            #bases.append(each)\n",
    "        \n",
    "    level_list = get_depends(pack)\n",
    "    \n",
    "    if len(level_list) == 0:\n",
    "        return {}\n",
    "\n",
    "    while len(level_list) !=0 :\n",
    "        \n",
    "        \n",
    "        #print(current_level,\"|\",level_list,\"|\",levels)\n",
    "        #print(levels)\n",
    "        temp = []\n",
    "        for each in level_list:\n",
    "\n",
    "            if each not in flat(list(levels.values())):\n",
    "                \n",
    "                if each not in bases:\n",
    "                    temp.append(each)\n",
    "                \n",
    "        #current_level +=1\n",
    "        \n",
    "        #print(current_level,temp)\n",
    "        if len(temp)>0:\n",
    "            levels[label+str(current_level)] = temp\n",
    "\n",
    "            \n",
    "            level_list = flat([get_depends(x) for x in temp if len(get_depends(x)) >= 1])\n",
    "            \n",
    "            if len(level_list):\n",
    "                current_level +=1\n",
    "        else:\n",
    "            level_list = []\n",
    "            \n",
    "           \n",
    "    levels['base'] = bases\n",
    "    \n",
    "    return levels"
   ]
  },
  {
   "cell_type": "code",
   "execution_count": 45,
   "metadata": {},
   "outputs": [
    {
     "data": {
      "text/plain": [
       "{}"
      ]
     },
     "execution_count": 45,
     "metadata": {},
     "output_type": "execute_result"
    }
   ],
   "source": [
    "custom_list('python-dog')"
   ]
  },
  {
   "cell_type": "code",
   "execution_count": null,
   "metadata": {
    "scrolled": true
   },
   "outputs": [],
   "source": []
  },
  {
   "cell_type": "code",
   "execution_count": 46,
   "metadata": {},
   "outputs": [
    {
     "data": {
      "text/html": [
       "<div>\n",
       "<style scoped>\n",
       "    .dataframe tbody tr th:only-of-type {\n",
       "        vertical-align: middle;\n",
       "    }\n",
       "\n",
       "    .dataframe tbody tr th {\n",
       "        vertical-align: top;\n",
       "    }\n",
       "\n",
       "    .dataframe thead th {\n",
       "        text-align: right;\n",
       "    }\n",
       "</style>\n",
       "<table border=\"1\" class=\"dataframe\">\n",
       "  <thead>\n",
       "    <tr style=\"text-align: right;\">\n",
       "      <th></th>\n",
       "      <th>python</th>\n",
       "      <th>python-banana</th>\n",
       "      <th>python-dog</th>\n",
       "      <th>python-cat</th>\n",
       "      <th>python-cactus</th>\n",
       "      <th>python-elephant</th>\n",
       "      <th>python-apple</th>\n",
       "      <th>python-setuptools</th>\n",
       "    </tr>\n",
       "  </thead>\n",
       "  <tbody>\n",
       "    <tr>\n",
       "      <th>python</th>\n",
       "      <td>0</td>\n",
       "      <td>0</td>\n",
       "      <td>0</td>\n",
       "      <td>0</td>\n",
       "      <td>0</td>\n",
       "      <td>0</td>\n",
       "      <td>0</td>\n",
       "      <td>0</td>\n",
       "    </tr>\n",
       "    <tr>\n",
       "      <th>python-banana</th>\n",
       "      <td>1</td>\n",
       "      <td>0</td>\n",
       "      <td>0</td>\n",
       "      <td>1</td>\n",
       "      <td>0</td>\n",
       "      <td>0</td>\n",
       "      <td>1</td>\n",
       "      <td>0</td>\n",
       "    </tr>\n",
       "    <tr>\n",
       "      <th>python-dog</th>\n",
       "      <td>1</td>\n",
       "      <td>0</td>\n",
       "      <td>0</td>\n",
       "      <td>0</td>\n",
       "      <td>0</td>\n",
       "      <td>1</td>\n",
       "      <td>0</td>\n",
       "      <td>0</td>\n",
       "    </tr>\n",
       "    <tr>\n",
       "      <th>python-cat</th>\n",
       "      <td>1</td>\n",
       "      <td>0</td>\n",
       "      <td>0</td>\n",
       "      <td>0</td>\n",
       "      <td>0</td>\n",
       "      <td>0</td>\n",
       "      <td>1</td>\n",
       "      <td>1</td>\n",
       "    </tr>\n",
       "    <tr>\n",
       "      <th>python-cactus</th>\n",
       "      <td>1</td>\n",
       "      <td>1</td>\n",
       "      <td>0</td>\n",
       "      <td>0</td>\n",
       "      <td>0</td>\n",
       "      <td>0</td>\n",
       "      <td>0</td>\n",
       "      <td>0</td>\n",
       "    </tr>\n",
       "    <tr>\n",
       "      <th>python-elephant</th>\n",
       "      <td>1</td>\n",
       "      <td>0</td>\n",
       "      <td>0</td>\n",
       "      <td>0</td>\n",
       "      <td>0</td>\n",
       "      <td>0</td>\n",
       "      <td>1</td>\n",
       "      <td>0</td>\n",
       "    </tr>\n",
       "    <tr>\n",
       "      <th>python-apple</th>\n",
       "      <td>1</td>\n",
       "      <td>0</td>\n",
       "      <td>0</td>\n",
       "      <td>0</td>\n",
       "      <td>0</td>\n",
       "      <td>0</td>\n",
       "      <td>0</td>\n",
       "      <td>1</td>\n",
       "    </tr>\n",
       "    <tr>\n",
       "      <th>python-setuptools</th>\n",
       "      <td>0</td>\n",
       "      <td>0</td>\n",
       "      <td>0</td>\n",
       "      <td>0</td>\n",
       "      <td>0</td>\n",
       "      <td>0</td>\n",
       "      <td>0</td>\n",
       "      <td>0</td>\n",
       "    </tr>\n",
       "  </tbody>\n",
       "</table>\n",
       "</div>"
      ],
      "text/plain": [
       "                   python  python-banana  python-dog  python-cat  \\\n",
       "python                  0              0           0           0   \n",
       "python-banana           1              0           0           1   \n",
       "python-dog              1              0           0           0   \n",
       "python-cat              1              0           0           0   \n",
       "python-cactus           1              1           0           0   \n",
       "python-elephant         1              0           0           0   \n",
       "python-apple            1              0           0           0   \n",
       "python-setuptools       0              0           0           0   \n",
       "\n",
       "                   python-cactus  python-elephant  python-apple  \\\n",
       "python                         0                0             0   \n",
       "python-banana                  0                0             1   \n",
       "python-dog                     0                1             0   \n",
       "python-cat                     0                0             1   \n",
       "python-cactus                  0                0             0   \n",
       "python-elephant                0                0             1   \n",
       "python-apple                   0                0             0   \n",
       "python-setuptools              0                0             0   \n",
       "\n",
       "                   python-setuptools  \n",
       "python                             0  \n",
       "python-banana                      0  \n",
       "python-dog                         0  \n",
       "python-cat                         1  \n",
       "python-cactus                      0  \n",
       "python-elephant                    0  \n",
       "python-apple                       1  \n",
       "python-setuptools                  0  "
      ]
     },
     "execution_count": 46,
     "metadata": {},
     "output_type": "execute_result"
    }
   ],
   "source": [
    "main_frame"
   ]
  },
  {
   "cell_type": "code",
   "execution_count": 47,
   "metadata": {},
   "outputs": [],
   "source": [
    "import matplotlib.pyplot as plt"
   ]
  },
  {
   "cell_type": "code",
   "execution_count": 48,
   "metadata": {},
   "outputs": [],
   "source": [
    "from pyvis.network import Network"
   ]
  },
  {
   "cell_type": "code",
   "execution_count": 49,
   "metadata": {},
   "outputs": [
    {
     "data": {
      "image/png": "[encoded data removed]",
      "text/plain": [
       "<Figure size 432x288 with 1 Axes>"
      ]
     },
     "metadata": {},
     "output_type": "display_data"
    }
   ],
   "source": [
    "G = nx.DiGraph(directed = True)\n",
    "\n",
    "for each in list(main_frame.index):\n",
    "    G.add_node(each)\n",
    "    \n",
    "for row in list(main_frame.index):\n",
    "    for col in list(main_frame.columns):\n",
    "        \n",
    "        if main_frame.loc[row,col]==1:\n",
    "            G.add_edge(row,col)\n",
    "\n",
    "nt = Network(\"500px\", \"500px\")\n",
    "nt.from_nx(G)\n",
    "nt.show(\"nx.html\")\n",
    "nx.draw_shell(G,with_labels=True)\n",
    "plt.savefig(\"graph.png\")\n"
   ]
  },
  {
   "cell_type": "code",
   "execution_count": 50,
   "metadata": {},
   "outputs": [
    {
     "name": "stdout",
     "output_type": "stream",
     "text": [
      "python :\n",
      " ['python-banana', 'python-dog', 'python-cat', 'python-cactus', 'python-elephant', 'python-apple']\n",
      "\n",
      "\n",
      "python-banana :\n",
      " ['python-cactus']\n",
      "\n",
      "\n",
      "python-dog :\n",
      " []\n",
      "\n",
      "\n",
      "python-cat :\n",
      " ['python-banana', 'python-cactus']\n",
      "\n",
      "\n",
      "python-cactus :\n",
      " []\n",
      "\n",
      "\n",
      "python-elephant :\n",
      " ['python-dog']\n",
      "\n",
      "\n",
      "python-apple :\n",
      " ['python-banana', 'python-cat', 'python-elephant', 'python-cactus', 'python-dog']\n",
      "\n",
      "\n",
      "python-setuptools :\n",
      " ['python-cat', 'python-apple', 'python-banana', 'python-banana', 'python-elephant', 'python-cactus', 'python-cactus', 'python-dog']\n",
      "\n",
      "\n"
     ]
    }
   ],
   "source": [
    "for each in list(main_frame.columns):\n",
    "    print(each ,\":\\n\",flat(list(custom_list(each).values())))\n",
    "    print(\"\\n\")"
   ]
  },
  {
   "cell_type": "code",
   "execution_count": 51,
   "metadata": {},
   "outputs": [
    {
     "name": "stdout",
     "output_type": "stream",
     "text": [
      "Module:python, Count 0\n",
      "Module:python-banana, Count 3\n",
      "Module:python-dog, Count 2\n",
      "Module:python-cat, Count 3\n",
      "Module:python-cactus, Count 2\n",
      "Module:python-elephant, Count 2\n",
      "Module:python-apple, Count 2\n",
      "Module:python-setuptools, Count 0\n"
     ]
    }
   ],
   "source": [
    "# number of dependecies count\n",
    "for each in range(len(main_frame.index)):\n",
    "    print(\"Module:{0}, Count {1}\".format(list(main_frame.index)[each],list(main_frame.iloc[each]).count(1)))"
   ]
  },
  {
   "cell_type": "code",
   "execution_count": 52,
   "metadata": {},
   "outputs": [
    {
     "data": {
      "text/plain": [
       "['python',\n",
       " 'python-setuptools',\n",
       " 'python-apple',\n",
       " 'python-cat',\n",
       " 'python-elephant',\n",
       " 'python-banana',\n",
       " 'python-dog',\n",
       " 'python-cactus']"
      ]
     },
     "execution_count": 52,
     "metadata": {},
     "output_type": "execute_result"
    }
   ],
   "source": [
    "# sorts the graph in topological order\n",
    "toposort_flatten(main_depends)"
   ]
  },
  {
   "cell_type": "code",
   "execution_count": 53,
   "metadata": {},
   "outputs": [
    {
     "ename": "CircularDependencyError",
     "evalue": "Circular dependencies exist among these items: {1:{2}, 2:{1}}",
     "output_type": "error",
     "traceback": [
      "\u001b[0;31m---------------------------------------------------------------------------\u001b[0m",
      "\u001b[0;31mCircularDependencyError\u001b[0m                   Traceback (most recent call last)",
      "\u001b[0;32m<ipython-input-53-8458e0d6042c>\u001b[0m in \u001b[0;36m<module>\u001b[0;34m\u001b[0m\n\u001b[1;32m      8\u001b[0m }\n\u001b[1;32m      9\u001b[0m \u001b[0;34m\u001b[0m\u001b[0m\n\u001b[0;32m---> 10\u001b[0;31m \u001b[0mtoposort_flatten\u001b[0m\u001b[0;34m(\u001b[0m\u001b[0mdata\u001b[0m\u001b[0;34m)\u001b[0m\u001b[0;34m\u001b[0m\u001b[0;34m\u001b[0m\u001b[0m\n\u001b[0m",
      "\u001b[0;32m/Library/Frameworks/Python.framework/Versions/3.7/lib/python3.7/site-packages/toposort.py\u001b[0m in \u001b[0;36mtoposort_flatten\u001b[0;34m(data, sort)\u001b[0m\n\u001b[1;32m     88\u001b[0m \u001b[0;34m\u001b[0m\u001b[0m\n\u001b[1;32m     89\u001b[0m     \u001b[0mresult\u001b[0m \u001b[0;34m=\u001b[0m \u001b[0;34m[\u001b[0m\u001b[0;34m]\u001b[0m\u001b[0;34m\u001b[0m\u001b[0;34m\u001b[0m\u001b[0m\n\u001b[0;32m---> 90\u001b[0;31m     \u001b[0;32mfor\u001b[0m \u001b[0md\u001b[0m \u001b[0;32min\u001b[0m \u001b[0mtoposort\u001b[0m\u001b[0;34m(\u001b[0m\u001b[0mdata\u001b[0m\u001b[0;34m)\u001b[0m\u001b[0;34m:\u001b[0m\u001b[0;34m\u001b[0m\u001b[0;34m\u001b[0m\u001b[0m\n\u001b[0m\u001b[1;32m     91\u001b[0m         \u001b[0mresult\u001b[0m\u001b[0;34m.\u001b[0m\u001b[0mextend\u001b[0m\u001b[0;34m(\u001b[0m\u001b[0;34m(\u001b[0m\u001b[0msorted\u001b[0m \u001b[0;32mif\u001b[0m \u001b[0msort\u001b[0m \u001b[0;32melse\u001b[0m \u001b[0mlist\u001b[0m\u001b[0;34m)\u001b[0m\u001b[0;34m(\u001b[0m\u001b[0md\u001b[0m\u001b[0;34m)\u001b[0m\u001b[0;34m)\u001b[0m\u001b[0;34m\u001b[0m\u001b[0;34m\u001b[0m\u001b[0m\n\u001b[1;32m     92\u001b[0m     \u001b[0;32mreturn\u001b[0m \u001b[0mresult\u001b[0m\u001b[0;34m\u001b[0m\u001b[0;34m\u001b[0m\u001b[0m\n",
      "\u001b[0;32m/Library/Frameworks/Python.framework/Versions/3.7/lib/python3.7/site-packages/toposort.py\u001b[0m in \u001b[0;36mtoposort\u001b[0;34m(data)\u001b[0m\n\u001b[1;32m     79\u001b[0m                     if item not in ordered}\n\u001b[1;32m     80\u001b[0m     \u001b[0;32mif\u001b[0m \u001b[0mlen\u001b[0m\u001b[0;34m(\u001b[0m\u001b[0mdata\u001b[0m\u001b[0;34m)\u001b[0m \u001b[0;34m!=\u001b[0m \u001b[0;36m0\u001b[0m\u001b[0;34m:\u001b[0m\u001b[0;34m\u001b[0m\u001b[0;34m\u001b[0m\u001b[0m\n\u001b[0;32m---> 81\u001b[0;31m         \u001b[0;32mraise\u001b[0m \u001b[0mCircularDependencyError\u001b[0m\u001b[0;34m(\u001b[0m\u001b[0mdata\u001b[0m\u001b[0;34m)\u001b[0m\u001b[0;34m\u001b[0m\u001b[0;34m\u001b[0m\u001b[0m\n\u001b[0m\u001b[1;32m     82\u001b[0m \u001b[0;34m\u001b[0m\u001b[0m\n\u001b[1;32m     83\u001b[0m \u001b[0;34m\u001b[0m\u001b[0m\n",
      "\u001b[0;31mCircularDependencyError\u001b[0m: Circular dependencies exist among these items: {1:{2}, 2:{1}}"
     ]
    }
   ],
   "source": [
    "# circular dependecies\n",
    "data = {\n",
    "    \n",
    "1:{2},\n",
    "2:{1},\n",
    "3:{4},\n",
    "4:{5}\n",
    "}\n",
    "\n",
    "toposort_flatten(data)"
   ]
  },
  {
   "cell_type": "code",
   "execution_count": null,
   "metadata": {},
   "outputs": [],
   "source": [
    "import jenkins"
   ]
  },
  {
   "cell_type": "code",
   "execution_count": null,
   "metadata": {},
   "outputs": [],
   "source": [
    "server = jenkins.Jenkins('http://192.168.52.13:8090', username='yugantm', password='1234')\n",
    "user = server.get_whoami()\n",
    "version = server.get_version()\n",
    "print('Hello %s from Jenkins %s' % (user['fullName'], version))"
   ]
  },
  {
   "cell_type": "code",
   "execution_count": null,
   "metadata": {},
   "outputs": [],
   "source": [
    "server.build_job('python-add')"
   ]
  },
  {
   "cell_type": "code",
   "execution_count": null,
   "metadata": {},
   "outputs": [],
   "source": []
  },
  {
   "cell_type": "code",
   "execution_count": null,
   "metadata": {},
   "outputs": [],
   "source": []
  },
  {
   "cell_type": "code",
   "execution_count": 59,
   "metadata": {},
   "outputs": [
    {
     "data": {
      "text/html": [
       "<div>\n",
       "<style scoped>\n",
       "    .dataframe tbody tr th:only-of-type {\n",
       "        vertical-align: middle;\n",
       "    }\n",
       "\n",
       "    .dataframe tbody tr th {\n",
       "        vertical-align: top;\n",
       "    }\n",
       "\n",
       "    .dataframe thead th {\n",
       "        text-align: right;\n",
       "    }\n",
       "</style>\n",
       "<table border=\"1\" class=\"dataframe\">\n",
       "  <thead>\n",
       "    <tr style=\"text-align: right;\">\n",
       "      <th></th>\n",
       "      <th>python</th>\n",
       "      <th>python-cat</th>\n",
       "    </tr>\n",
       "  </thead>\n",
       "  <tbody>\n",
       "    <tr>\n",
       "      <th>python</th>\n",
       "      <td>0</td>\n",
       "      <td>0</td>\n",
       "    </tr>\n",
       "    <tr>\n",
       "      <th>python-cat</th>\n",
       "      <td>1</td>\n",
       "      <td>0</td>\n",
       "    </tr>\n",
       "  </tbody>\n",
       "</table>\n",
       "</div>"
      ],
      "text/plain": [
       "            python  python-cat\n",
       "python           0           0\n",
       "python-cat       1           0"
      ]
     },
     "execution_count": 59,
     "metadata": {},
     "output_type": "execute_result"
    }
   ],
   "source": [
    "main_frame[['python','python-cat']].T[['python','python-cat']].T"
   ]
  }
 ],
 "metadata": {
  "kernelspec": {
   "display_name": "Python 3",
   "language": "python",
   "name": "python3"
  },
  "language_info": {
   "codemirror_mode": {
    "name": "ipython",
    "version": 3
   },
   "file_extension": ".py",
   "mimetype": "text/x-python",
   "name": "python",
   "nbconvert_exporter": "python",
   "pygments_lexer": "ipython3",
   "version": "3.7.4"
  }
 },
 "nbformat": 4,
 "nbformat_minor": 2
}
