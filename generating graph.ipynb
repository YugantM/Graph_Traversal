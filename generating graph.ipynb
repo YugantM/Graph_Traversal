{
 "cells": [
  {
   "cell_type": "code",
   "execution_count": 54,
   "metadata": {},
   "outputs": [],
   "source": [
    "import os\n",
    "import pandas as pd"
   ]
  },
  {
   "cell_type": "code",
   "execution_count": 55,
   "metadata": {},
   "outputs": [],
   "source": [
    "from toposort import toposort, toposort_flatten"
   ]
  },
  {
   "cell_type": "code",
   "execution_count": 56,
   "metadata": {},
   "outputs": [],
   "source": [
    "from collections import defaultdict "
   ]
  },
  {
   "cell_type": "code",
   "execution_count": 57,
   "metadata": {},
   "outputs": [],
   "source": [
    "path = \"./\""
   ]
  },
  {
   "cell_type": "code",
   "execution_count": 58,
   "metadata": {},
   "outputs": [],
   "source": [
    "folder_list = [each for each in list(os.walk(path))[0][1] if \"python\" in each]"
   ]
  },
  {
   "cell_type": "code",
   "execution_count": 59,
   "metadata": {},
   "outputs": [],
   "source": [
    "variables_to_look = ['depends','makedepends']"
   ]
  },
  {
   "cell_type": "code",
   "execution_count": 60,
   "metadata": {},
   "outputs": [],
   "source": [
    "def variable_or_not(line):\n",
    "    \n",
    "    if \"=\" in line and len(line.strip().split(\"=\")[0].split(\" \"))==1:\n",
    "        return each_line.strip().split(\"=\")[0]\n",
    "    else:\n",
    "        return False\n",
    "    "
   ]
  },
  {
   "cell_type": "code",
   "execution_count": 62,
   "metadata": {},
   "outputs": [],
   "source": [
    "# start reading the dependencies\n",
    "\n",
    "flag = False\n",
    "main_depends = {}\n",
    "for each_folder in folder_list:\n",
    "    with open(path+each_folder+\"/PKGBUILD\",'r') as file:\n",
    "        temp = file.readlines()\n",
    "        \n",
    "        \n",
    "        stack = []\n",
    "        for each in temp:\n",
    "\n",
    "            \n",
    "            if each.split(\"=\")[0] in variables_to_look:\n",
    "                flag = True\n",
    "            \n",
    "            if flag == True:\n",
    "                \n",
    "                stack.append(each.strip().replace(\"'\",\"\"))\n",
    "                #print(each.strip().replace(\"'\",\"\"))\n",
    "                \n",
    "            if ')' in each.strip():\n",
    "                flag = False\n",
    "                if len(stack) > 0:\n",
    "                    main_depends[each_folder] = stack\n",
    "                \n",
    "            \n",
    "        \n",
    "for each in list(main_depends.keys()):\n",
    "    \n",
    "    temp = []\n",
    "    for x in main_depends[each]:\n",
    "        temp.append(x.split(\"=\")[-1])\n",
    "        \n",
    "    main_depends[each] = set([each for each in \" \".join(temp).replace(\"(\",\"\").replace(\")\",\"\").split(\" \") if len(each)>0])\n"
   ]
  },
  {
   "cell_type": "code",
   "execution_count": 63,
   "metadata": {},
   "outputs": [],
   "source": [
    "main_modules = list(main_depends.keys())\n",
    "all_modules = list(set([j for i in list(main_depends.values()) for j in i]+main_modules))"
   ]
  },
  {
   "cell_type": "code",
   "execution_count": 64,
   "metadata": {},
   "outputs": [],
   "source": [
    "main_frame = pd.DataFrame(columns=all_modules,index=all_modules).fillna(0)"
   ]
  },
  {
   "cell_type": "code",
   "execution_count": 65,
   "metadata": {},
   "outputs": [
    {
     "data": {
      "text/html": [
       "<div>\n",
       "<style scoped>\n",
       "    .dataframe tbody tr th:only-of-type {\n",
       "        vertical-align: middle;\n",
       "    }\n",
       "\n",
       "    .dataframe tbody tr th {\n",
       "        vertical-align: top;\n",
       "    }\n",
       "\n",
       "    .dataframe thead th {\n",
       "        text-align: right;\n",
       "    }\n",
       "</style>\n",
       "<table border=\"1\" class=\"dataframe\">\n",
       "  <thead>\n",
       "    <tr style=\"text-align: right;\">\n",
       "      <th></th>\n",
       "      <th>python-setuptools</th>\n",
       "      <th>python-dog</th>\n",
       "      <th>python-banana</th>\n",
       "      <th>python</th>\n",
       "      <th>python-cactus</th>\n",
       "      <th>python-apple</th>\n",
       "      <th>python-elephant</th>\n",
       "    </tr>\n",
       "  </thead>\n",
       "  <tbody>\n",
       "    <tr>\n",
       "      <th>python-setuptools</th>\n",
       "      <td>0</td>\n",
       "      <td>0</td>\n",
       "      <td>0</td>\n",
       "      <td>0</td>\n",
       "      <td>0</td>\n",
       "      <td>0</td>\n",
       "      <td>0</td>\n",
       "    </tr>\n",
       "    <tr>\n",
       "      <th>python-dog</th>\n",
       "      <td>0</td>\n",
       "      <td>0</td>\n",
       "      <td>0</td>\n",
       "      <td>1</td>\n",
       "      <td>0</td>\n",
       "      <td>0</td>\n",
       "      <td>1</td>\n",
       "    </tr>\n",
       "    <tr>\n",
       "      <th>python-banana</th>\n",
       "      <td>0</td>\n",
       "      <td>0</td>\n",
       "      <td>0</td>\n",
       "      <td>1</td>\n",
       "      <td>0</td>\n",
       "      <td>1</td>\n",
       "      <td>0</td>\n",
       "    </tr>\n",
       "    <tr>\n",
       "      <th>python</th>\n",
       "      <td>0</td>\n",
       "      <td>0</td>\n",
       "      <td>0</td>\n",
       "      <td>0</td>\n",
       "      <td>0</td>\n",
       "      <td>0</td>\n",
       "      <td>0</td>\n",
       "    </tr>\n",
       "    <tr>\n",
       "      <th>python-cactus</th>\n",
       "      <td>0</td>\n",
       "      <td>0</td>\n",
       "      <td>1</td>\n",
       "      <td>1</td>\n",
       "      <td>0</td>\n",
       "      <td>0</td>\n",
       "      <td>0</td>\n",
       "    </tr>\n",
       "    <tr>\n",
       "      <th>python-apple</th>\n",
       "      <td>1</td>\n",
       "      <td>0</td>\n",
       "      <td>0</td>\n",
       "      <td>1</td>\n",
       "      <td>0</td>\n",
       "      <td>0</td>\n",
       "      <td>0</td>\n",
       "    </tr>\n",
       "    <tr>\n",
       "      <th>python-elephant</th>\n",
       "      <td>0</td>\n",
       "      <td>0</td>\n",
       "      <td>0</td>\n",
       "      <td>1</td>\n",
       "      <td>0</td>\n",
       "      <td>1</td>\n",
       "      <td>0</td>\n",
       "    </tr>\n",
       "  </tbody>\n",
       "</table>\n",
       "</div>"
      ],
      "text/plain": [
       "                   python-setuptools  python-dog  python-banana  python  \\\n",
       "python-setuptools                  0           0              0       0   \n",
       "python-dog                         0           0              0       1   \n",
       "python-banana                      0           0              0       1   \n",
       "python                             0           0              0       0   \n",
       "python-cactus                      0           0              1       1   \n",
       "python-apple                       1           0              0       1   \n",
       "python-elephant                    0           0              0       1   \n",
       "\n",
       "                   python-cactus  python-apple  python-elephant  \n",
       "python-setuptools              0             0                0  \n",
       "python-dog                     0             0                1  \n",
       "python-banana                  0             1                0  \n",
       "python                         0             0                0  \n",
       "python-cactus                  0             0                0  \n",
       "python-apple                   0             0                0  \n",
       "python-elephant                0             1                0  "
      ]
     },
     "execution_count": 65,
     "metadata": {},
     "output_type": "execute_result"
    }
   ],
   "source": [
    "for ind in list(main_frame.index):\n",
    "    for col in list(main_frame.columns):\n",
    "        if ind in main_modules and col!=ind:\n",
    "            \n",
    "            for each in main_depends[ind]:\n",
    "                main_frame.loc[ind,each] = 1\n",
    "        \n",
    "main_frame"
   ]
  },
  {
   "cell_type": "code",
   "execution_count": 66,
   "metadata": {},
   "outputs": [
    {
     "data": {
      "text/plain": [
       "['python',\n",
       " 'python-setuptools',\n",
       " 'python-apple',\n",
       " 'python-banana',\n",
       " 'python-elephant',\n",
       " 'python-cactus',\n",
       " 'python-dog']"
      ]
     },
     "execution_count": 66,
     "metadata": {},
     "output_type": "execute_result"
    }
   ],
   "source": [
    "toposort_flatten(main_depends)"
   ]
  },
  {
   "cell_type": "code",
   "execution_count": 67,
   "metadata": {},
   "outputs": [
    {
     "ename": "CircularDependencyError",
     "evalue": "Circular dependencies exist among these items: {1:{2}, 2:{1}}",
     "output_type": "error",
     "traceback": [
      "\u001b[0;31m---------------------------------------------------------------------------\u001b[0m",
      "\u001b[0;31mCircularDependencyError\u001b[0m                   Traceback (most recent call last)",
      "\u001b[0;32m<ipython-input-67-1e22232ea314>\u001b[0m in \u001b[0;36m<module>\u001b[0;34m\u001b[0m\n\u001b[1;32m      7\u001b[0m }\n\u001b[1;32m      8\u001b[0m \u001b[0;34m\u001b[0m\u001b[0m\n\u001b[0;32m----> 9\u001b[0;31m \u001b[0mtoposort_flatten\u001b[0m\u001b[0;34m(\u001b[0m\u001b[0mdata\u001b[0m\u001b[0;34m)\u001b[0m\u001b[0;34m\u001b[0m\u001b[0;34m\u001b[0m\u001b[0m\n\u001b[0m",
      "\u001b[0;32m/Library/Frameworks/Python.framework/Versions/3.7/lib/python3.7/site-packages/toposort.py\u001b[0m in \u001b[0;36mtoposort_flatten\u001b[0;34m(data, sort)\u001b[0m\n\u001b[1;32m     88\u001b[0m \u001b[0;34m\u001b[0m\u001b[0m\n\u001b[1;32m     89\u001b[0m     \u001b[0mresult\u001b[0m \u001b[0;34m=\u001b[0m \u001b[0;34m[\u001b[0m\u001b[0;34m]\u001b[0m\u001b[0;34m\u001b[0m\u001b[0;34m\u001b[0m\u001b[0m\n\u001b[0;32m---> 90\u001b[0;31m     \u001b[0;32mfor\u001b[0m \u001b[0md\u001b[0m \u001b[0;32min\u001b[0m \u001b[0mtoposort\u001b[0m\u001b[0;34m(\u001b[0m\u001b[0mdata\u001b[0m\u001b[0;34m)\u001b[0m\u001b[0;34m:\u001b[0m\u001b[0;34m\u001b[0m\u001b[0;34m\u001b[0m\u001b[0m\n\u001b[0m\u001b[1;32m     91\u001b[0m         \u001b[0mresult\u001b[0m\u001b[0;34m.\u001b[0m\u001b[0mextend\u001b[0m\u001b[0;34m(\u001b[0m\u001b[0;34m(\u001b[0m\u001b[0msorted\u001b[0m \u001b[0;32mif\u001b[0m \u001b[0msort\u001b[0m \u001b[0;32melse\u001b[0m \u001b[0mlist\u001b[0m\u001b[0;34m)\u001b[0m\u001b[0;34m(\u001b[0m\u001b[0md\u001b[0m\u001b[0;34m)\u001b[0m\u001b[0;34m)\u001b[0m\u001b[0;34m\u001b[0m\u001b[0;34m\u001b[0m\u001b[0m\n\u001b[1;32m     92\u001b[0m     \u001b[0;32mreturn\u001b[0m \u001b[0mresult\u001b[0m\u001b[0;34m\u001b[0m\u001b[0;34m\u001b[0m\u001b[0m\n",
      "\u001b[0;32m/Library/Frameworks/Python.framework/Versions/3.7/lib/python3.7/site-packages/toposort.py\u001b[0m in \u001b[0;36mtoposort\u001b[0;34m(data)\u001b[0m\n\u001b[1;32m     79\u001b[0m                     if item not in ordered}\n\u001b[1;32m     80\u001b[0m     \u001b[0;32mif\u001b[0m \u001b[0mlen\u001b[0m\u001b[0;34m(\u001b[0m\u001b[0mdata\u001b[0m\u001b[0;34m)\u001b[0m \u001b[0;34m!=\u001b[0m \u001b[0;36m0\u001b[0m\u001b[0;34m:\u001b[0m\u001b[0;34m\u001b[0m\u001b[0;34m\u001b[0m\u001b[0m\n\u001b[0;32m---> 81\u001b[0;31m         \u001b[0;32mraise\u001b[0m \u001b[0mCircularDependencyError\u001b[0m\u001b[0;34m(\u001b[0m\u001b[0mdata\u001b[0m\u001b[0;34m)\u001b[0m\u001b[0;34m\u001b[0m\u001b[0;34m\u001b[0m\u001b[0m\n\u001b[0m\u001b[1;32m     82\u001b[0m \u001b[0;34m\u001b[0m\u001b[0m\n\u001b[1;32m     83\u001b[0m \u001b[0;34m\u001b[0m\u001b[0m\n",
      "\u001b[0;31mCircularDependencyError\u001b[0m: Circular dependencies exist among these items: {1:{2}, 2:{1}}"
     ]
    }
   ],
   "source": [
    "# circular dependecies\n",
    "data = {\n",
    "    \n",
    "1:{2},\n",
    "2:{1},\n",
    "3:{4}\n",
    "}\n",
    "\n",
    "toposort_flatten(data)"
   ]
  },
  {
   "cell_type": "code",
   "execution_count": null,
   "metadata": {},
   "outputs": [],
   "source": []
  }
 ],
 "metadata": {
  "kernelspec": {
   "display_name": "Python 3",
   "language": "python",
   "name": "python3"
  },
  "language_info": {
   "codemirror_mode": {
    "name": "ipython",
    "version": 3
   },
   "file_extension": ".py",
   "mimetype": "text/x-python",
   "name": "python",
   "nbconvert_exporter": "python",
   "pygments_lexer": "ipython3",
   "version": "3.7.4"
  }
 },
 "nbformat": 4,
 "nbformat_minor": 2
}
